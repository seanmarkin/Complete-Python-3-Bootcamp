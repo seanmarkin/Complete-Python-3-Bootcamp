{
  "nbformat": 4,
  "nbformat_minor": 0,
  "metadata": {
    "colab": {
      "name": "Untitled0.ipynb",
      "provenance": [],
      "collapsed_sections": [],
      "authorship_tag": "ABX9TyMW2dd3pf77MaJOLNweQmHW",
      "include_colab_link": true
    },
    "kernelspec": {
      "name": "python3",
      "display_name": "Python 3"
    }
  },
  "cells": [
    {
      "cell_type": "markdown",
      "metadata": {
        "id": "view-in-github",
        "colab_type": "text"
      },
      "source": [
        "<a href=\"https://colab.research.google.com/github/seanmarkin/Complete-Python-3-Bootcamp/blob/master/neuron_1.ipynb\" target=\"_parent\"><img src=\"https://colab.research.google.com/assets/colab-badge.svg\" alt=\"Open In Colab\"/></a>"
      ]
    },
    {
      "cell_type": "code",
      "metadata": {
        "id": "Aq5doq-8F254",
        "colab_type": "code",
        "outputId": "9d2c28df-0cc8-45c6-808a-d9b84d91232b",
        "colab": {
          "base_uri": "https://localhost:8080/",
          "height": 34
        }
      },
      "source": [
        "print(\"hello\")"
      ],
      "execution_count": 0,
      "outputs": [
        {
          "output_type": "stream",
          "text": [
            "hello\n"
          ],
          "name": "stdout"
        }
      ]
    },
    {
      "cell_type": "code",
      "metadata": {
        "id": "ppDnYoYCF79U",
        "colab_type": "code",
        "outputId": "37509023-051d-4677-fc55-bb1ae4174528",
        "colab": {
          "base_uri": "https://localhost:8080/",
          "height": 85
        }
      },
      "source": [
        "for i in range(1,5):\n",
        "  print(\"eat a dick\")\n",
        "  "
      ],
      "execution_count": 0,
      "outputs": [
        {
          "output_type": "stream",
          "text": [
            "eat a dick\n",
            "eat a dick\n",
            "eat a dick\n",
            "eat a dick\n"
          ],
          "name": "stdout"
        }
      ]
    },
    {
      "cell_type": "code",
      "metadata": {
        "id": "_RugsZcMGGOf",
        "colab_type": "code",
        "outputId": "bc9320a9-8807-483a-e51f-cdf75bbfb54a",
        "colab": {
          "base_uri": "https://localhost:8080/",
          "height": 34
        }
      },
      "source": [
        "print(\"hello\")"
      ],
      "execution_count": 0,
      "outputs": [
        {
          "output_type": "stream",
          "text": [
            "hello\n"
          ],
          "name": "stdout"
        }
      ]
    },
    {
      "cell_type": "code",
      "metadata": {
        "id": "h3AH9qWHGLiH",
        "colab_type": "code",
        "outputId": "1a64edad-32b1-4dfb-fe40-4f96a017c162",
        "colab": {
          "base_uri": "https://localhost:8080/",
          "height": 34
        }
      },
      "source": [
        "print(\"Hello\")\n"
      ],
      "execution_count": 1,
      "outputs": [
        {
          "output_type": "stream",
          "text": [
            "Hello\n"
          ],
          "name": "stdout"
        }
      ]
    },
    {
      "cell_type": "code",
      "metadata": {
        "id": "h9QcDcEvZ3X3",
        "colab_type": "code",
        "colab": {}
      },
      "source": [
        "def test(a, b, c):\n",
        "  print(a)\n",
        "  print(b)\n",
        "  print(c)"
      ],
      "execution_count": 0,
      "outputs": []
    },
    {
      "cell_type": "code",
      "metadata": {
        "id": "gKBQLjonaIow",
        "colab_type": "code",
        "colab": {
          "base_uri": "https://localhost:8080/",
          "height": 68
        },
        "outputId": "85ece0b6-0159-4378-9d6f-0fcfbed6c2c8"
      },
      "source": [
        "test(1,2,3)"
      ],
      "execution_count": 4,
      "outputs": [
        {
          "output_type": "stream",
          "text": [
            "1\n",
            "2\n",
            "3\n"
          ],
          "name": "stdout"
        }
      ]
    },
    {
      "cell_type": "code",
      "metadata": {
        "id": "4l5wtJwuaL3X",
        "colab_type": "code",
        "colab": {}
      },
      "source": [
        "def test(a, b, c=10):\n",
        "  print(a)\n",
        "  print(b)\n",
        "  print(c)"
      ],
      "execution_count": 0,
      "outputs": []
    },
    {
      "cell_type": "code",
      "metadata": {
        "id": "tMMoL1GYbDv_",
        "colab_type": "code",
        "colab": {
          "base_uri": "https://localhost:8080/",
          "height": 68
        },
        "outputId": "2b767398-65c9-4020-a822-4633ea357190"
      },
      "source": [
        "test(1,2)"
      ],
      "execution_count": 6,
      "outputs": [
        {
          "output_type": "stream",
          "text": [
            "1\n",
            "2\n",
            "10\n"
          ],
          "name": "stdout"
        }
      ]
    },
    {
      "cell_type": "code",
      "metadata": {
        "id": "XFViI1nybFXm",
        "colab_type": "code",
        "colab": {}
      },
      "source": [
        "def test(a, b, *c):\n",
        "  print(a)\n",
        "  print(b)\n",
        "  print(c)"
      ],
      "execution_count": 0,
      "outputs": []
    },
    {
      "cell_type": "code",
      "metadata": {
        "id": "eWFR5dIvbQZX",
        "colab_type": "code",
        "colab": {
          "base_uri": "https://localhost:8080/",
          "height": 68
        },
        "outputId": "b95ba00a-5e88-40c0-e6b0-5b25dd35ca4e"
      },
      "source": [
        "test(1,2,3,4,5,6,7,8)"
      ],
      "execution_count": 8,
      "outputs": [
        {
          "output_type": "stream",
          "text": [
            "1\n",
            "2\n",
            "(3, 4, 5, 6, 7, 8)\n"
          ],
          "name": "stdout"
        }
      ]
    },
    {
      "cell_type": "code",
      "metadata": {
        "id": "SgubuKJbbTTI",
        "colab_type": "code",
        "colab": {}
      },
      "source": [
        "def keytest(a, b, **kwarg):\n",
        "  print(kwarg)\n",
        "  print(a)\n",
        "  print(b)"
      ],
      "execution_count": 0,
      "outputs": []
    },
    {
      "cell_type": "code",
      "metadata": {
        "id": "CBYpbbebd-xM",
        "colab_type": "code",
        "colab": {
          "base_uri": "https://localhost:8080/",
          "height": 68
        },
        "outputId": "bf2360fe-1388-4f75-8a58-9a557528f55e"
      },
      "source": [
        "keytest(1,2,b_a='fart',b_b='nart')"
      ],
      "execution_count": 13,
      "outputs": [
        {
          "output_type": "stream",
          "text": [
            "{'b_a': 'fart', 'b_b': 'nart'}\n",
            "1\n",
            "2\n"
          ],
          "name": "stdout"
        }
      ]
    },
    {
      "cell_type": "code",
      "metadata": {
        "id": "lt-q_HBJeTF0",
        "colab_type": "code",
        "colab": {}
      },
      "source": [
        "def key(a,b,*,dong=4,**ging):\n",
        "  print(a)\n",
        "  print(b)\n",
        "  print(ging)"
      ],
      "execution_count": 0,
      "outputs": []
    },
    {
      "cell_type": "code",
      "metadata": {
        "id": "15XWwcirhx3o",
        "colab_type": "code",
        "colab": {
          "base_uri": "https://localhost:8080/",
          "height": 68
        },
        "outputId": "185eedc8-fa0c-4ffd-c6e9-e27dff6b1c56"
      },
      "source": [
        "key(2,3,dong=23,red=2,blue=3,green=5)"
      ],
      "execution_count": 18,
      "outputs": [
        {
          "output_type": "stream",
          "text": [
            "2\n",
            "3\n",
            "{'red': 2, 'blue': 3, 'green': 5}\n"
          ],
          "name": "stdout"
        }
      ]
    },
    {
      "cell_type": "code",
      "metadata": {
        "id": "tnzcwP9QiI4O",
        "colab_type": "code",
        "colab": {}
      },
      "source": [
        "def key(a,b,dong=4,**ging):\n",
        "  print(a)\n",
        "  print(b)\n",
        "  print(ging)"
      ],
      "execution_count": 0,
      "outputs": []
    },
    {
      "cell_type": "code",
      "metadata": {
        "id": "dhlct4Ksi9pY",
        "colab_type": "code",
        "colab": {
          "base_uri": "https://localhost:8080/",
          "height": 68
        },
        "outputId": "4a10c824-8948-41f1-af31-da6187f85cde"
      },
      "source": [
        "key(2,3,dong=23,red=2,blue=3,green=5)"
      ],
      "execution_count": 20,
      "outputs": [
        {
          "output_type": "stream",
          "text": [
            "2\n",
            "3\n",
            "{'red': 2, 'blue': 3, 'green': 5}\n"
          ],
          "name": "stdout"
        }
      ]
    },
    {
      "cell_type": "code",
      "metadata": {
        "id": "dXnlyi1yi-6H",
        "colab_type": "code",
        "colab": {}
      },
      "source": [
        "def key2(a,b,*nuts,**kwarg):\n",
        "  print(a)\n",
        "  print(b)\n",
        "  print(nuts)\n",
        "  print(kwarg)"
      ],
      "execution_count": 0,
      "outputs": []
    },
    {
      "cell_type": "code",
      "metadata": {
        "id": "K0pujbl1jJ8-",
        "colab_type": "code",
        "colab": {
          "base_uri": "https://localhost:8080/",
          "height": 85
        },
        "outputId": "be48407a-b745-4b1d-9342-a6e538f7c7c6"
      },
      "source": [
        "key2(1,2,3,4,5,6,blah='dog',blah2='cat')"
      ],
      "execution_count": 23,
      "outputs": [
        {
          "output_type": "stream",
          "text": [
            "1\n",
            "2\n",
            "(3, 4, 5, 6)\n",
            "{'blah': 'dog', 'blah2': 'cat'}\n"
          ],
          "name": "stdout"
        }
      ]
    },
    {
      "cell_type": "code",
      "metadata": {
        "id": "KsuF4sDtjmse",
        "colab_type": "code",
        "colab": {}
      },
      "source": [
        "def key3(a,b,c):\n",
        "  print(a)\n",
        "  print(b)\n",
        "  print(c)"
      ],
      "execution_count": 0,
      "outputs": []
    },
    {
      "cell_type": "code",
      "metadata": {
        "id": "3gehCX1hkBuu",
        "colab_type": "code",
        "colab": {
          "base_uri": "https://localhost:8080/",
          "height": 68
        },
        "outputId": "066cad96-6284-4def-e10e-99d0332479bd"
      },
      "source": [
        "key3(c=10, b=22, a=2)"
      ],
      "execution_count": 25,
      "outputs": [
        {
          "output_type": "stream",
          "text": [
            "2\n",
            "22\n",
            "10\n"
          ],
          "name": "stdout"
        }
      ]
    },
    {
      "cell_type": "code",
      "metadata": {
        "id": "D8-JxMFAkGnl",
        "colab_type": "code",
        "colab": {}
      },
      "source": [
        "def key4(a,b, kw1,kw2=20):\n",
        "  print(a)\n",
        "  print(b)\n",
        "  print(kw1)\n",
        "  print(kw2)"
      ],
      "execution_count": 0,
      "outputs": []
    },
    {
      "cell_type": "code",
      "metadata": {
        "id": "VEtxqV1pDl7x",
        "colab_type": "code",
        "colab": {
          "base_uri": "https://localhost:8080/",
          "height": 85
        },
        "outputId": "145b8b89-3c1e-4e02-c187-c0d7ad33d3f3"
      },
      "source": [
        "key4(1,2,4)"
      ],
      "execution_count": 28,
      "outputs": [
        {
          "output_type": "stream",
          "text": [
            "1\n",
            "2\n",
            "4\n",
            "20\n"
          ],
          "name": "stdout"
        }
      ]
    },
    {
      "cell_type": "code",
      "metadata": {
        "id": "nZe8Mh3gDop1",
        "colab_type": "code",
        "colab": {
          "base_uri": "https://localhost:8080/",
          "height": 85
        },
        "outputId": "cc84fed3-e9a9-489b-b85e-ee16dcd34b0a"
      },
      "source": [
        "key4(4,5,kw1=40,kw2=14)"
      ],
      "execution_count": 29,
      "outputs": [
        {
          "output_type": "stream",
          "text": [
            "4\n",
            "5\n",
            "40\n",
            "14\n"
          ],
          "name": "stdout"
        }
      ]
    },
    {
      "cell_type": "code",
      "metadata": {
        "id": "7ONIQpKiDybe",
        "colab_type": "code",
        "colab": {}
      },
      "source": [
        "def toot(a):\n",
        "  print(a)\n",
        "  return a\n"
      ],
      "execution_count": 0,
      "outputs": []
    },
    {
      "cell_type": "code",
      "metadata": {
        "id": "JZuvV4EHREML",
        "colab_type": "code",
        "colab": {
          "base_uri": "https://localhost:8080/",
          "height": 51
        },
        "outputId": "beea56b2-ef39-42d5-cf0f-c85fd67dbb2b"
      },
      "source": [
        "print(toot(4)+1) "
      ],
      "execution_count": 32,
      "outputs": [
        {
          "output_type": "stream",
          "text": [
            "4\n",
            "5\n"
          ],
          "name": "stdout"
        }
      ]
    },
    {
      "cell_type": "code",
      "metadata": {
        "id": "EHOI38eCRlc2",
        "colab_type": "code",
        "colab": {
          "base_uri": "https://localhost:8080/",
          "height": 85
        },
        "outputId": "688a44c0-eb87-4fcc-97f4-58bf486aff02"
      },
      "source": [
        "for z in range(1,5):\n",
        "  toot(z)"
      ],
      "execution_count": 33,
      "outputs": [
        {
          "output_type": "stream",
          "text": [
            "1\n",
            "2\n",
            "3\n",
            "4\n"
          ],
          "name": "stdout"
        }
      ]
    },
    {
      "cell_type": "code",
      "metadata": {
        "id": "vsuPHolMRBU2",
        "colab_type": "code",
        "colab": {}
      },
      "source": [
        "def tooter(*arg):\n",
        "  sum = 0\n",
        "  for i in range(1,5):\n",
        "    sum = sum + arg[0](i)\n",
        "  return sum"
      ],
      "execution_count": 0,
      "outputs": []
    },
    {
      "cell_type": "code",
      "metadata": {
        "id": "4DXpyYLpSP4b",
        "colab_type": "code",
        "colab": {
          "base_uri": "https://localhost:8080/",
          "height": 102
        },
        "outputId": "ae7bdde9-76c9-4f94-8662-7e5f67bb739b"
      },
      "source": [
        "tooter(toot)"
      ],
      "execution_count": 44,
      "outputs": [
        {
          "output_type": "stream",
          "text": [
            "1\n",
            "2\n",
            "3\n",
            "4\n"
          ],
          "name": "stdout"
        },
        {
          "output_type": "execute_result",
          "data": {
            "text/plain": [
              "10"
            ]
          },
          "metadata": {
            "tags": []
          },
          "execution_count": 44
        }
      ]
    },
    {
      "cell_type": "code",
      "metadata": {
        "id": "U1exWBo-SbqS",
        "colab_type": "code",
        "colab": {}
      },
      "source": [
        "class neuron:\n",
        "  animal = \"dog\"\n",
        "  subscriptions = []\n",
        "  fire_thresh = .5\n",
        "\n",
        "  def poop(a):\n",
        "    print(\"poop\")\n",
        "\n",
        "  def fire():\n",
        "    should_fire = 0\n",
        "    for i in range(len(b1.subscriptions)):\n",
        "      shoudb1.subscriptions[1].poop())\n",
        "\n",
        "    return 1\n"
      ],
      "execution_count": 0,
      "outputs": []
    },
    {
      "cell_type": "code",
      "metadata": {
        "id": "UUPWCxjorv2Q",
        "colab_type": "code",
        "colab": {}
      },
      "source": [
        "b1 = neuron()\n",
        "a1 = neuron()\n",
        "a2 = neuron()\n",
        "a3 = neuron()\n"
      ],
      "execution_count": 0,
      "outputs": []
    },
    {
      "cell_type": "code",
      "metadata": {
        "id": "FOLb-FCxyEde",
        "colab_type": "code",
        "colab": {}
      },
      "source": [
        "a1.animal\n",
        "z = []\n",
        "z.append(a1)"
      ],
      "execution_count": 0,
      "outputs": []
    },
    {
      "cell_type": "code",
      "metadata": {
        "id": "UJ9H6Yllzi5T",
        "colab_type": "code",
        "colab": {
          "base_uri": "https://localhost:8080/",
          "height": 51
        },
        "outputId": "55a93f67-cb95-42dc-bb52-26bf403f5895"
      },
      "source": [
        "z[0].poop()\n",
        "b1.subscriptions = []\n",
        "b1.subscriptions.append('dog')\n",
        "b1.subscriptions[0]\n",
        "b1.subscriptions.append('cat')\n",
        "b1.subscriptions[0]\n",
        "b1.subscriptions"
      ],
      "execution_count": 97,
      "outputs": [
        {
          "output_type": "stream",
          "text": [
            "poop\n"
          ],
          "name": "stdout"
        },
        {
          "output_type": "execute_result",
          "data": {
            "text/plain": [
              "['dog', 'cat']"
            ]
          },
          "metadata": {
            "tags": []
          },
          "execution_count": 97
        }
      ]
    },
    {
      "cell_type": "code",
      "metadata": {
        "id": "lv4eep1vuex6",
        "colab_type": "code",
        "colab": {}
      },
      "source": [
        "b1.subscriptions = []\n",
        "b1.subscriptions.append(a1)\n",
        "b1.subscriptions.append(a2)\n",
        "b1.subscriptions.append(a3)"
      ],
      "execution_count": 0,
      "outputs": []
    },
    {
      "cell_type": "code",
      "metadata": {
        "id": "nq5fjVNzuq-r",
        "colab_type": "code",
        "colab": {
          "base_uri": "https://localhost:8080/",
          "height": 119
        },
        "outputId": "971508ea-c1ce-4686-e063-617679e3ec10"
      },
      "source": [
        "for i in range(len(b1.subscriptions)):\n",
        "  print(b1.subscriptions[1].poop())\n",
        "\n",
        "\n",
        "#b1.subscriptions[0].poop()"
      ],
      "execution_count": 106,
      "outputs": [
        {
          "output_type": "stream",
          "text": [
            "poop\n",
            "None\n",
            "poop\n",
            "None\n",
            "poop\n",
            "None\n"
          ],
          "name": "stdout"
        }
      ]
    },
    {
      "cell_type": "code",
      "metadata": {
        "id": "_GHOOMBorzQU",
        "colab_type": "code",
        "colab": {
          "base_uri": "https://localhost:8080/",
          "height": 34
        },
        "outputId": "29714038-41bd-473e-a918-388bedcef721"
      },
      "source": [
        "n1.animal"
      ],
      "execution_count": 53,
      "outputs": [
        {
          "output_type": "execute_result",
          "data": {
            "text/plain": [
              "'dog'"
            ]
          },
          "metadata": {
            "tags": []
          },
          "execution_count": 53
        }
      ]
    },
    {
      "cell_type": "code",
      "metadata": {
        "id": "B1oSuor7r1ep",
        "colab_type": "code",
        "colab": {}
      },
      "source": [
        ""
      ],
      "execution_count": 0,
      "outputs": []
    },
    {
      "cell_type": "code",
      "metadata": {
        "id": "j2rMA-RmsEsS",
        "colab_type": "code",
        "colab": {
          "base_uri": "https://localhost:8080/",
          "height": 34
        },
        "outputId": "50a9ca0b-7f41-46da-f75c-a97fe63237e1"
      },
      "source": [
        "n1.poop()"
      ],
      "execution_count": 54,
      "outputs": [
        {
          "output_type": "stream",
          "text": [
            "poop\n"
          ],
          "name": "stdout"
        }
      ]
    },
    {
      "cell_type": "code",
      "metadata": {
        "id": "SP6G1_m2sNER",
        "colab_type": "code",
        "colab": {}
      },
      "source": [
        ""
      ],
      "execution_count": 0,
      "outputs": []
    }
  ]
}